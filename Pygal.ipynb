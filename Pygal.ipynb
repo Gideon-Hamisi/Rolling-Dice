{
 "cells": [
  {
   "cell_type": "markdown",
   "id": "145aecff",
   "metadata": {},
   "source": [
    "# Class to simulate roll of one dice"
   ]
  },
  {
   "cell_type": "code",
   "execution_count": 1,
   "id": "9f189491",
   "metadata": {},
   "outputs": [],
   "source": [
    "from random import randint\n",
    "class Die():\n",
    "    \"\"\"A class representing a single die.\"\"\"\n",
    "    def __init__(self, num_sides=6):\n",
    "        \"\"\"Assume a six-sided die.\"\"\"\n",
    "        self.num_sides = num_sides\n",
    "    def roll(self):\n",
    "        \"\"\"\"Return a random value between 1 and number of sides.\"\"\"\n",
    "        return randint(1, self.num_sides)"
   ]
  },
  {
   "cell_type": "markdown",
   "id": "d8a9c7ae",
   "metadata": {},
   "source": [
    "# Rolling the Die\n",
    "Before creating a visualization based on this class, let’s roll a D6, print the \n",
    "results, and check that the results look reasonable:"
   ]
  },
  {
   "cell_type": "code",
   "execution_count": 2,
   "id": "bdf41fe3",
   "metadata": {},
   "outputs": [
    {
     "name": "stdout",
     "output_type": "stream",
     "text": [
      "[3, 5, 3, 1, 6, 3, 4, 4, 3, 6, 4, 6, 6, 3, 2, 3, 1, 1, 5, 3, 6, 6, 6, 2, 1, 6, 5, 1, 3, 6, 2, 6, 4, 3, 3, 3, 1, 6, 4, 6, 4, 2, 3, 3, 2, 6, 1, 5, 2, 1, 1, 4, 4, 1, 5, 5, 1, 1, 1, 6, 4, 5, 1, 2, 6, 1, 6, 3, 5, 3, 6, 1, 6, 5, 2, 4, 4, 6, 3, 3, 2, 5, 1, 6, 2, 3, 3, 6, 6, 5, 6, 2, 5, 2, 5, 3, 6, 5, 2, 5]\n"
     ]
    }
   ],
   "source": [
    "# Create a D6.\n",
    "die = Die()\n",
    "# Make some rolls, and store results in a list.\n",
    "results = []\n",
    "for roll_num in range(100):\n",
    "    result = die.roll()\n",
    "    results.append(result)\n",
    "print(results)"
   ]
  },
  {
   "cell_type": "markdown",
   "id": "f0c6e406",
   "metadata": {},
   "source": [
    "# Analyzing the Results\n",
    "We analyze the results of rolling one D6 by counting how many times we \n",
    "roll each number"
   ]
  },
  {
   "cell_type": "code",
   "execution_count": 3,
   "id": "97c0a15e",
   "metadata": {},
   "outputs": [
    {
     "name": "stdout",
     "output_type": "stream",
     "text": [
      "[176, 178, 183, 185, 182, 196]\n"
     ]
    }
   ],
   "source": [
    "for roll_num in range(1000):\n",
    " result = die.roll()\n",
    " results.append(result)\n",
    " \n",
    "# Analyze the results.\n",
    "frequencies = []\n",
    "for value in range(1, die.num_sides+1):\n",
    "    frequency = results.count(value)\n",
    "    frequencies.append(frequency)\n",
    " \n",
    "print(frequencies)"
   ]
  },
  {
   "cell_type": "code",
   "execution_count": 4,
   "id": "a94d3f5f",
   "metadata": {},
   "outputs": [],
   "source": [
    "import pygal\n",
    "# --snip--\n",
    "# Analyze the results.\n",
    "frequencies = []\n",
    "for value in range(1, die.num_sides+1):\n",
    "    frequency = results.count(value)\n",
    "    frequencies.append(frequency)\n",
    " \n",
    "# Visualize the results.\n",
    "hist = pygal.Bar()\n",
    "hist.title = \"Results of rolling one D6 1000 times.\"\n",
    "hist.x_labels = ['1', '2', '3', '4', '5', '6']\n",
    "hist.x_title = \"Result\"\n",
    "hist.y_title = \"Frequency of Result\"\n",
    "hist.add('D6', frequencies)\n",
    "hist.render_to_file('die_visual_1.svg')"
   ]
  },
  {
   "cell_type": "markdown",
   "id": "6d5d5b7b",
   "metadata": {},
   "source": [
    "# Rolling Two Dice\n",
    "Rolling two dice results in larger numbers and a different distribution \n",
    "of results. Let’s modify our code to create two D6 dice to simulate the \n",
    "way we roll a pair of dice. Each time we roll the pair, we’ll add the two \n",
    "numbers (one from each die) and store the sum in results. Save a copy of \n",
    "die_visual.py as dice_visual.py, and make the following changes"
   ]
  },
  {
   "cell_type": "code",
   "execution_count": 5,
   "id": "afa38492",
   "metadata": {},
   "outputs": [],
   "source": [
    "#  Create two D6 dice.\n",
    "die_1 = Die()\n",
    "die_2 = Die()"
   ]
  },
  {
   "cell_type": "code",
   "execution_count": 6,
   "id": "0f600ebe",
   "metadata": {},
   "outputs": [],
   "source": [
    "# Make some rolls, and store results in a list.\n",
    "#results = []\n",
    "for roll_num in range(1000):\n",
    "    result = die_1.roll() + die_2.roll()\n",
    "    results.append(result)\n",
    " \n",
    "# Analyze the results.\n",
    "#frequencies = []\n",
    "max_result = die_1.num_sides + die_2.num_sides"
   ]
  },
  {
   "cell_type": "code",
   "execution_count": 7,
   "id": "bade6789",
   "metadata": {},
   "outputs": [],
   "source": [
    "for value in range(2, max_result+1):\n",
    "    frequency = results.count(value)\n",
    "    frequencies.append(frequency)\n",
    " \n",
    "# Visualize the results.\n",
    "hist = pygal.Bar()\n",
    "hist.title = \"Results of rolling two D6 dice 1000 times.\"\n",
    "hist.x_labels = ['2', '3', '4', '5', '6', '7', '8', '9', '10', '11', '12']\n",
    "hist.x_title = \"Result\"\n",
    "hist.y_title = \"Frequency of Result\"\n",
    "hist.add('D6 + D6', frequencies)\n",
    "hist.render_to_file('dice_visual_2.svg')"
   ]
  },
  {
   "cell_type": "markdown",
   "id": "8295605a",
   "metadata": {},
   "source": [
    "# Rolling Dice of Different Sizes\n",
    "Let’s create a six-sided die and a ten-sided die, and see what happens when \n",
    "we roll them 50,000 times"
   ]
  },
  {
   "cell_type": "code",
   "execution_count": 8,
   "id": "2e168df9",
   "metadata": {},
   "outputs": [],
   "source": [
    "# Create a D6 and a D10.\n",
    "die_1 = Die()\n",
    "die_2 = Die(10)"
   ]
  },
  {
   "cell_type": "code",
   "execution_count": 9,
   "id": "48941973",
   "metadata": {},
   "outputs": [],
   "source": [
    "# Make some rolls, and store results in a list.\n",
    "results = []\n",
    "for roll_num in range(50000):\n",
    " result = die_1.roll() + die_2.roll()\n",
    " results.append(result)\n",
    " \n",
    "# Analyze the results.\n",
    "\n",
    " \n",
    "# Visualize the results.\n",
    "hist = pygal.Bar()\n",
    "hist.title = \"Results of rolling a D6 and a D10 50,000 times.\"\n",
    "hist.x_labels = ['2', '3', '4', '5', '6', '7', '8', '9', '10', '11', '12',\n",
    "                         '13', '14', '15', '16']\n",
    "hist.x_title = \"Result\"\n",
    "hist.y_title = \"Frequency of Result\"\n",
    "hist.add('D6 + D10', frequencies)\n",
    "hist.render_to_file('dice_visual_3.svg')"
   ]
  },
  {
   "cell_type": "code",
   "execution_count": null,
   "id": "df261e6c",
   "metadata": {},
   "outputs": [],
   "source": []
  }
 ],
 "metadata": {
  "kernelspec": {
   "display_name": "Python 3 (ipykernel)",
   "language": "python",
   "name": "python3"
  },
  "language_info": {
   "codemirror_mode": {
    "name": "ipython",
    "version": 3
   },
   "file_extension": ".py",
   "mimetype": "text/x-python",
   "name": "python",
   "nbconvert_exporter": "python",
   "pygments_lexer": "ipython3",
   "version": "3.9.7"
  }
 },
 "nbformat": 4,
 "nbformat_minor": 5
}
